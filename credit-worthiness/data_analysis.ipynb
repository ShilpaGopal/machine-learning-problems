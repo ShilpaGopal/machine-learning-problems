{
 "cells": [
  {
   "cell_type": "code",
   "execution_count": 75,
   "metadata": {},
   "outputs": [],
   "source": [
    "import pandas as pd\n",
    "import numpy as np\n",
    "import matplotlib.pyplot as plt\n",
    "import seaborn as sns\n",
    "import warnings\n",
    "warnings.filterwarnings('ignore')\n",
    "\n",
    "from scipy.stats import norm,skew\n",
    "from scipy import stats\n",
    "import time\n",
    "\n",
    "from sklearn.model_selection import KFold, cross_val_score,train_test_split,GridSearchCV\n",
    "from sklearn.ensemble import GradientBoostingRegressor,RandomForestRegressor\n",
    "from sklearn.linear_model import RidgeCV, Ridge, LinearRegression, LassoCV, BayesianRidge\n",
    "from sklearn.kernel_ridge import KernelRidge\n",
    "from sklearn.metrics import mean_squared_error, r2_score, mean_absolute_error\n",
    "from sklearn.tree import DecisionTreeRegressor\n"
   ]
  },
  {
   "cell_type": "code",
   "execution_count": 3,
   "metadata": {},
   "outputs": [
    {
     "data": {
      "text/html": [
       "<div>\n",
       "<style scoped>\n",
       "    .dataframe tbody tr th:only-of-type {\n",
       "        vertical-align: middle;\n",
       "    }\n",
       "\n",
       "    .dataframe tbody tr th {\n",
       "        vertical-align: top;\n",
       "    }\n",
       "\n",
       "    .dataframe thead th {\n",
       "        text-align: right;\n",
       "    }\n",
       "</style>\n",
       "<table border=\"1\" class=\"dataframe\">\n",
       "  <thead>\n",
       "    <tr style=\"text-align: right;\">\n",
       "      <th></th>\n",
       "      <th>dtype</th>\n",
       "    </tr>\n",
       "  </thead>\n",
       "  <tbody>\n",
       "    <tr>\n",
       "      <th>Id</th>\n",
       "      <td>int64</td>\n",
       "    </tr>\n",
       "    <tr>\n",
       "      <th>city</th>\n",
       "      <td>object</td>\n",
       "    </tr>\n",
       "    <tr>\n",
       "      <th>age</th>\n",
       "      <td>int64</td>\n",
       "    </tr>\n",
       "    <tr>\n",
       "      <th>sex</th>\n",
       "      <td>object</td>\n",
       "    </tr>\n",
       "    <tr>\n",
       "      <th>social_class</th>\n",
       "      <td>object</td>\n",
       "    </tr>\n",
       "    <tr>\n",
       "      <th>primary_business</th>\n",
       "      <td>object</td>\n",
       "    </tr>\n",
       "    <tr>\n",
       "      <th>secondary_business</th>\n",
       "      <td>object</td>\n",
       "    </tr>\n",
       "    <tr>\n",
       "      <th>annual_income</th>\n",
       "      <td>float64</td>\n",
       "    </tr>\n",
       "    <tr>\n",
       "      <th>monthly_expenses</th>\n",
       "      <td>float64</td>\n",
       "    </tr>\n",
       "    <tr>\n",
       "      <th>old_dependents</th>\n",
       "      <td>int64</td>\n",
       "    </tr>\n",
       "    <tr>\n",
       "      <th>young_dependents</th>\n",
       "      <td>int64</td>\n",
       "    </tr>\n",
       "    <tr>\n",
       "      <th>home_ownership</th>\n",
       "      <td>float64</td>\n",
       "    </tr>\n",
       "    <tr>\n",
       "      <th>type_of_house</th>\n",
       "      <td>object</td>\n",
       "    </tr>\n",
       "    <tr>\n",
       "      <th>occupants_count</th>\n",
       "      <td>int64</td>\n",
       "    </tr>\n",
       "    <tr>\n",
       "      <th>house_area</th>\n",
       "      <td>float64</td>\n",
       "    </tr>\n",
       "    <tr>\n",
       "      <th>sanitary_availability</th>\n",
       "      <td>float64</td>\n",
       "    </tr>\n",
       "    <tr>\n",
       "      <th>water_availabity</th>\n",
       "      <td>float64</td>\n",
       "    </tr>\n",
       "    <tr>\n",
       "      <th>loan_purpose</th>\n",
       "      <td>object</td>\n",
       "    </tr>\n",
       "    <tr>\n",
       "      <th>loan_tenure</th>\n",
       "      <td>int64</td>\n",
       "    </tr>\n",
       "    <tr>\n",
       "      <th>loan_installments</th>\n",
       "      <td>int64</td>\n",
       "    </tr>\n",
       "    <tr>\n",
       "      <th>loan_amount</th>\n",
       "      <td>float64</td>\n",
       "    </tr>\n",
       "  </tbody>\n",
       "</table>\n",
       "</div>"
      ],
      "text/plain": [
       "                         dtype\n",
       "Id                       int64\n",
       "city                    object\n",
       "age                      int64\n",
       "sex                     object\n",
       "social_class            object\n",
       "primary_business        object\n",
       "secondary_business      object\n",
       "annual_income          float64\n",
       "monthly_expenses       float64\n",
       "old_dependents           int64\n",
       "young_dependents         int64\n",
       "home_ownership         float64\n",
       "type_of_house           object\n",
       "occupants_count          int64\n",
       "house_area             float64\n",
       "sanitary_availability  float64\n",
       "water_availabity       float64\n",
       "loan_purpose            object\n",
       "loan_tenure              int64\n",
       "loan_installments        int64\n",
       "loan_amount            float64"
      ]
     },
     "execution_count": 3,
     "metadata": {},
     "output_type": "execute_result"
    }
   ],
   "source": [
    "df = pd.read_csv(\"./data/trainingData.csv\")\n",
    "pd.DataFrame(df.dtypes).rename(columns={0:'dtype'})"
   ]
  },
  {
   "cell_type": "code",
   "execution_count": 10,
   "metadata": {},
   "outputs": [
    {
     "data": {
      "text/html": [
       "<div>\n",
       "<style scoped>\n",
       "    .dataframe tbody tr th:only-of-type {\n",
       "        vertical-align: middle;\n",
       "    }\n",
       "\n",
       "    .dataframe tbody tr th {\n",
       "        vertical-align: top;\n",
       "    }\n",
       "\n",
       "    .dataframe thead th {\n",
       "        text-align: right;\n",
       "    }\n",
       "</style>\n",
       "<table border=\"1\" class=\"dataframe\">\n",
       "  <thead>\n",
       "    <tr style=\"text-align: right;\">\n",
       "      <th></th>\n",
       "      <th>Id</th>\n",
       "      <th>age</th>\n",
       "      <th>annual_income</th>\n",
       "      <th>monthly_expenses</th>\n",
       "      <th>old_dependents</th>\n",
       "      <th>young_dependents</th>\n",
       "      <th>home_ownership</th>\n",
       "      <th>occupants_count</th>\n",
       "      <th>house_area</th>\n",
       "      <th>sanitary_availability</th>\n",
       "      <th>water_availabity</th>\n",
       "      <th>loan_tenure</th>\n",
       "      <th>loan_installments</th>\n",
       "      <th>loan_amount</th>\n",
       "    </tr>\n",
       "  </thead>\n",
       "  <tbody>\n",
       "    <tr>\n",
       "      <th>count</th>\n",
       "      <td>40000.00000</td>\n",
       "      <td>40000.00000</td>\n",
       "      <td>4.000000e+04</td>\n",
       "      <td>39880.000000</td>\n",
       "      <td>40000.000000</td>\n",
       "      <td>40000.00000</td>\n",
       "      <td>39621.000000</td>\n",
       "      <td>40000.000000</td>\n",
       "      <td>40000.000000</td>\n",
       "      <td>39792.000000</td>\n",
       "      <td>34747.000000</td>\n",
       "      <td>40000.000000</td>\n",
       "      <td>40000.000000</td>\n",
       "      <td>4.000000e+04</td>\n",
       "    </tr>\n",
       "    <tr>\n",
       "      <th>mean</th>\n",
       "      <td>20000.50000</td>\n",
       "      <td>55.15990</td>\n",
       "      <td>3.764021e+04</td>\n",
       "      <td>3810.875401</td>\n",
       "      <td>0.044900</td>\n",
       "      <td>1.13710</td>\n",
       "      <td>0.972489</td>\n",
       "      <td>26.641000</td>\n",
       "      <td>552.804750</td>\n",
       "      <td>0.686369</td>\n",
       "      <td>0.753216</td>\n",
       "      <td>12.032225</td>\n",
       "      <td>21.761175</td>\n",
       "      <td>8.412593e+03</td>\n",
       "    </tr>\n",
       "    <tr>\n",
       "      <th>std</th>\n",
       "      <td>11547.14972</td>\n",
       "      <td>3830.35566</td>\n",
       "      <td>2.873912e+04</td>\n",
       "      <td>4592.958009</td>\n",
       "      <td>0.222003</td>\n",
       "      <td>1.07384</td>\n",
       "      <td>0.163568</td>\n",
       "      <td>4749.995485</td>\n",
       "      <td>4596.921905</td>\n",
       "      <td>0.464028</td>\n",
       "      <td>0.255337</td>\n",
       "      <td>1.367473</td>\n",
       "      <td>16.682458</td>\n",
       "      <td>1.359694e+04</td>\n",
       "    </tr>\n",
       "    <tr>\n",
       "      <th>min</th>\n",
       "      <td>1.00000</td>\n",
       "      <td>2.00000</td>\n",
       "      <td>0.000000e+00</td>\n",
       "      <td>2.000000</td>\n",
       "      <td>0.000000</td>\n",
       "      <td>0.00000</td>\n",
       "      <td>0.000000</td>\n",
       "      <td>0.000000</td>\n",
       "      <td>0.000000</td>\n",
       "      <td>-1.000000</td>\n",
       "      <td>-1.000000</td>\n",
       "      <td>3.000000</td>\n",
       "      <td>0.000000</td>\n",
       "      <td>1.000000e+02</td>\n",
       "    </tr>\n",
       "    <tr>\n",
       "      <th>25%</th>\n",
       "      <td>10000.75000</td>\n",
       "      <td>29.00000</td>\n",
       "      <td>1.440000e+04</td>\n",
       "      <td>2500.000000</td>\n",
       "      <td>0.000000</td>\n",
       "      <td>0.00000</td>\n",
       "      <td>1.000000</td>\n",
       "      <td>2.000000</td>\n",
       "      <td>200.000000</td>\n",
       "      <td>0.000000</td>\n",
       "      <td>0.500000</td>\n",
       "      <td>12.000000</td>\n",
       "      <td>12.000000</td>\n",
       "      <td>5.000000e+03</td>\n",
       "    </tr>\n",
       "    <tr>\n",
       "      <th>50%</th>\n",
       "      <td>20000.50000</td>\n",
       "      <td>35.00000</td>\n",
       "      <td>3.600000e+04</td>\n",
       "      <td>3500.000000</td>\n",
       "      <td>0.000000</td>\n",
       "      <td>1.00000</td>\n",
       "      <td>1.000000</td>\n",
       "      <td>3.000000</td>\n",
       "      <td>400.000000</td>\n",
       "      <td>1.000000</td>\n",
       "      <td>1.000000</td>\n",
       "      <td>12.000000</td>\n",
       "      <td>12.000000</td>\n",
       "      <td>8.000000e+03</td>\n",
       "    </tr>\n",
       "    <tr>\n",
       "      <th>75%</th>\n",
       "      <td>30000.25000</td>\n",
       "      <td>42.00000</td>\n",
       "      <td>5.600000e+04</td>\n",
       "      <td>4000.000000</td>\n",
       "      <td>0.000000</td>\n",
       "      <td>2.00000</td>\n",
       "      <td>1.000000</td>\n",
       "      <td>4.000000</td>\n",
       "      <td>600.000000</td>\n",
       "      <td>1.000000</td>\n",
       "      <td>1.000000</td>\n",
       "      <td>12.000000</td>\n",
       "      <td>50.000000</td>\n",
       "      <td>1.000000e+04</td>\n",
       "    </tr>\n",
       "    <tr>\n",
       "      <th>max</th>\n",
       "      <td>40000.00000</td>\n",
       "      <td>766105.00000</td>\n",
       "      <td>1.200000e+06</td>\n",
       "      <td>240000.000000</td>\n",
       "      <td>3.000000</td>\n",
       "      <td>7.00000</td>\n",
       "      <td>1.000000</td>\n",
       "      <td>950000.000000</td>\n",
       "      <td>700000.000000</td>\n",
       "      <td>1.000000</td>\n",
       "      <td>1.000000</td>\n",
       "      <td>84.000000</td>\n",
       "      <td>84.000000</td>\n",
       "      <td>1.343000e+06</td>\n",
       "    </tr>\n",
       "  </tbody>\n",
       "</table>\n",
       "</div>"
      ],
      "text/plain": [
       "                Id           age  annual_income  monthly_expenses  \\\n",
       "count  40000.00000   40000.00000   4.000000e+04      39880.000000   \n",
       "mean   20000.50000      55.15990   3.764021e+04       3810.875401   \n",
       "std    11547.14972    3830.35566   2.873912e+04       4592.958009   \n",
       "min        1.00000       2.00000   0.000000e+00          2.000000   \n",
       "25%    10000.75000      29.00000   1.440000e+04       2500.000000   \n",
       "50%    20000.50000      35.00000   3.600000e+04       3500.000000   \n",
       "75%    30000.25000      42.00000   5.600000e+04       4000.000000   \n",
       "max    40000.00000  766105.00000   1.200000e+06     240000.000000   \n",
       "\n",
       "       old_dependents  young_dependents  home_ownership  occupants_count  \\\n",
       "count    40000.000000       40000.00000    39621.000000     40000.000000   \n",
       "mean         0.044900           1.13710        0.972489        26.641000   \n",
       "std          0.222003           1.07384        0.163568      4749.995485   \n",
       "min          0.000000           0.00000        0.000000         0.000000   \n",
       "25%          0.000000           0.00000        1.000000         2.000000   \n",
       "50%          0.000000           1.00000        1.000000         3.000000   \n",
       "75%          0.000000           2.00000        1.000000         4.000000   \n",
       "max          3.000000           7.00000        1.000000    950000.000000   \n",
       "\n",
       "          house_area  sanitary_availability  water_availabity   loan_tenure  \\\n",
       "count   40000.000000           39792.000000      34747.000000  40000.000000   \n",
       "mean      552.804750               0.686369          0.753216     12.032225   \n",
       "std      4596.921905               0.464028          0.255337      1.367473   \n",
       "min         0.000000              -1.000000         -1.000000      3.000000   \n",
       "25%       200.000000               0.000000          0.500000     12.000000   \n",
       "50%       400.000000               1.000000          1.000000     12.000000   \n",
       "75%       600.000000               1.000000          1.000000     12.000000   \n",
       "max    700000.000000               1.000000          1.000000     84.000000   \n",
       "\n",
       "       loan_installments   loan_amount  \n",
       "count       40000.000000  4.000000e+04  \n",
       "mean           21.761175  8.412593e+03  \n",
       "std            16.682458  1.359694e+04  \n",
       "min             0.000000  1.000000e+02  \n",
       "25%            12.000000  5.000000e+03  \n",
       "50%            12.000000  8.000000e+03  \n",
       "75%            50.000000  1.000000e+04  \n",
       "max            84.000000  1.343000e+06  "
      ]
     },
     "execution_count": 10,
     "metadata": {},
     "output_type": "execute_result"
    }
   ],
   "source": [
    "df.describe(include=[np.number])"
   ]
  },
  {
   "cell_type": "code",
   "execution_count": 27,
   "metadata": {},
   "outputs": [
    {
     "name": "stderr",
     "output_type": "stream",
     "text": [
      "/anaconda3/lib/python3.7/site-packages/scipy/stats/stats.py:1713: FutureWarning: Using a non-tuple sequence for multidimensional indexing is deprecated; use `arr[tuple(seq)]` instead of `arr[seq]`. In the future this will be interpreted as an array index, `arr[np.array(seq)]`, which will result either in an error or a different result.\n",
      "  return np.add.reduce(sorted[indexer] * weights, axis=axis) / sumval\n"
     ]
    },
    {
     "data": {
      "image/png": "[encoded data removed]",
      "text/plain": [
       "<Figure size 432x288 with 1 Axes>"
      ]
     },
     "metadata": {
      "needs_background": "light"
     },
     "output_type": "display_data"
    }
   ],
   "source": [
    "sns.distplot(df['loan_amount'], bins=1)\n",
    "plt.show()"
   ]
  },
  {
   "cell_type": "code",
   "execution_count": 34,
   "metadata": {},
   "outputs": [
    {
     "data": {
      "text/plain": [
       "(203, 21)"
      ]
     },
     "execution_count": 34,
     "metadata": {},
     "output_type": "execute_result"
    }
   ],
   "source": [
    "def outlier_treatment(datacolumn):\n",
    "     sorted(datacolumn)\n",
    "     Q1,Q3 = np.percentile(datacolumn , [25,75])\n",
    "     IQR = Q3 - Q1\n",
    "     lower_range = Q1 - (1.5 * IQR)\n",
    "     upper_range = Q3 + (1.5 * IQR)\n",
    "     return lower_range,upper_range\n",
    "\n",
    "lowerbound,upperbound = outlier_treatment(df.loan_amount)\n",
    "\n",
    "df[(df.loan_amount < lowerbound) | (df.loan_amount > upperbound)].shape"
   ]
  },
  {
   "cell_type": "code",
   "execution_count": 35,
   "metadata": {},
   "outputs": [],
   "source": [
    "#remove teh outlier\n",
    "\n",
    "df.drop(df[ (df.loan_amount > upperbound) | (df.loan_amount < lowerbound) ].index , inplace=True)"
   ]
  },
  {
   "cell_type": "code",
   "execution_count": 40,
   "metadata": {},
   "outputs": [
    {
     "data": {
      "image/png": "[encoded data removed]",
      "text/plain": [
       "<Figure size 432x288 with 1 Axes>"
      ]
     },
     "metadata": {
      "needs_background": "light"
     },
     "output_type": "display_data"
    }
   ],
   "source": [
    "sns.distplot(df['loan_amount'])\n",
    "plt.show()"
   ]
  },
  {
   "cell_type": "code",
   "execution_count": 43,
   "metadata": {},
   "outputs": [
    {
     "data": {
      "image/png": "[encoded data removed]",
      "text/plain": [
       "<Figure size 432x288 with 1 Axes>"
      ]
     },
     "metadata": {
      "needs_background": "light"
     },
     "output_type": "display_data"
    },
    {
     "name": "stdout",
     "output_type": "stream",
     "text": [
      "mu : 2.2944 and sigma : 0.0382\n"
     ]
    }
   ],
   "source": [
    "# log tranformation can be used to normalize the \n",
    "# positively/right skewed ditribution \n",
    "\n",
    "df[\"loan_amount\"]= np.log1p(df[\"loan_amount\"])\n",
    "\n",
    "# new distribution\n",
    "sns.distplot(df['loan_amount'], fit = norm)\n",
    "plt.ylabel('Frequency')\n",
    "plt.title('loan_amount distribution')\n",
    "plt.show()\n",
    "\n",
    "# Fitted paramter used by the function\n",
    "mu,sigma = norm.fit(df['loan_amount'])\n",
    "print(f\"mu : {mu:.4f} and sigma : {sigma:.4f}\")"
   ]
  },
  {
   "cell_type": "code",
   "execution_count": 44,
   "metadata": {},
   "outputs": [
    {
     "data": {
      "image/png": "[encoded data removed]",
      "text/plain": [
       "<Figure size 432x288 with 1 Axes>"
      ]
     },
     "metadata": {
      "needs_background": "light"
     },
     "output_type": "display_data"
    }
   ],
   "source": [
    "res = stats.probplot(df['loan_amount'], plot=plt)\n",
    "plt.show()"
   ]
  },
  {
   "cell_type": "code",
   "execution_count": 45,
   "metadata": {},
   "outputs": [
    {
     "name": "stdout",
     "output_type": "stream",
     "text": [
      "Skewness: -0.385056\n",
      "Kurtosis: 1.609675\n"
     ]
    }
   ],
   "source": [
    "#skewness and kurtosis\n",
    "print(\"Skewness: %f\" % df['loan_amount'].skew())\n",
    "print(\"Kurtosis: %f\" % df['loan_amount'].kurt())"
   ]
  },
  {
   "cell_type": "code",
   "execution_count": 53,
   "metadata": {},
   "outputs": [
    {
     "data": {
      "text/html": [
       "<div>\n",
       "<style scoped>\n",
       "    .dataframe tbody tr th:only-of-type {\n",
       "        vertical-align: middle;\n",
       "    }\n",
       "\n",
       "    .dataframe tbody tr th {\n",
       "        vertical-align: top;\n",
       "    }\n",
       "\n",
       "    .dataframe thead th {\n",
       "        text-align: right;\n",
       "    }\n",
       "</style>\n",
       "<table border=\"1\" class=\"dataframe\">\n",
       "  <thead>\n",
       "    <tr style=\"text-align: right;\">\n",
       "      <th></th>\n",
       "      <th>Total</th>\n",
       "      <th>Percent</th>\n",
       "    </tr>\n",
       "  </thead>\n",
       "  <tbody>\n",
       "    <tr>\n",
       "      <th>social_class</th>\n",
       "      <td>5254</td>\n",
       "      <td>0.132020</td>\n",
       "    </tr>\n",
       "    <tr>\n",
       "      <th>water_availabity</th>\n",
       "      <td>5252</td>\n",
       "      <td>0.131970</td>\n",
       "    </tr>\n",
       "    <tr>\n",
       "      <th>secondary_business</th>\n",
       "      <td>5240</td>\n",
       "      <td>0.131668</td>\n",
       "    </tr>\n",
       "    <tr>\n",
       "      <th>city</th>\n",
       "      <td>1826</td>\n",
       "      <td>0.045883</td>\n",
       "    </tr>\n",
       "    <tr>\n",
       "      <th>type_of_house</th>\n",
       "      <td>694</td>\n",
       "      <td>0.017439</td>\n",
       "    </tr>\n",
       "    <tr>\n",
       "      <th>home_ownership</th>\n",
       "      <td>379</td>\n",
       "      <td>0.009523</td>\n",
       "    </tr>\n",
       "    <tr>\n",
       "      <th>sanitary_availability</th>\n",
       "      <td>208</td>\n",
       "      <td>0.005227</td>\n",
       "    </tr>\n",
       "    <tr>\n",
       "      <th>monthly_expenses</th>\n",
       "      <td>120</td>\n",
       "      <td>0.003015</td>\n",
       "    </tr>\n",
       "    <tr>\n",
       "      <th>loan_purpose</th>\n",
       "      <td>26</td>\n",
       "      <td>0.000653</td>\n",
       "    </tr>\n",
       "    <tr>\n",
       "      <th>primary_business</th>\n",
       "      <td>26</td>\n",
       "      <td>0.000653</td>\n",
       "    </tr>\n",
       "  </tbody>\n",
       "</table>\n",
       "</div>"
      ],
      "text/plain": [
       "                       Total   Percent\n",
       "social_class            5254  0.132020\n",
       "water_availabity        5252  0.131970\n",
       "secondary_business      5240  0.131668\n",
       "city                    1826  0.045883\n",
       "type_of_house            694  0.017439\n",
       "home_ownership           379  0.009523\n",
       "sanitary_availability    208  0.005227\n",
       "monthly_expenses         120  0.003015\n",
       "loan_purpose              26  0.000653\n",
       "primary_business          26  0.000653"
      ]
     },
     "execution_count": 53,
     "metadata": {},
     "output_type": "execute_result"
    }
   ],
   "source": [
    "# Missing data\n",
    "total = df.isnull().sum().sort_values(ascending=False)\n",
    "percent = (df.isnull().sum()/df.isnull().count()).sort_values(ascending=False)\n",
    "missing_data = pd.concat([total, percent], axis=1, keys=['Total', 'Percent'])\n",
    "missing_data.head(10)"
   ]
  },
  {
   "cell_type": "code",
   "execution_count": 54,
   "metadata": {},
   "outputs": [],
   "source": [
    "for col in ['primary_business', 'secondary_business']:\n",
    "    df[col]=df[col].fillna('none')"
   ]
  },
  {
   "cell_type": "code",
   "execution_count": 55,
   "metadata": {},
   "outputs": [],
   "source": [
    "# There has to be purpose for the loan\n",
    "# Missing values can specified as others\n",
    "df['loan_purpose'] = df['loan_purpose'].fillna('Others')"
   ]
  },
  {
   "cell_type": "code",
   "execution_count": 56,
   "metadata": {},
   "outputs": [],
   "source": [
    "df = df.drop(df[df['occupants_count'] >= 100].index)\n",
    "df.loc[df.water_availabity == -1, 'water_availabity'] = 1\n",
    "df.loc[df.sanitary_availability == -1, 'sanitary_availability'] = 1"
   ]
  },
  {
   "cell_type": "code",
   "execution_count": 57,
   "metadata": {},
   "outputs": [],
   "source": [
    "# Continous feature - House area\n",
    "df['house_area_band']=0\n",
    "df.loc[df.house_area == 0, 'house_area_band'] = 0\n",
    "df.loc[(df.house_area > 0) & (df.house_area <= 250), 'house_area_band'] = 1\n",
    "df.loc[(df.house_area > 250) & (df.house_area <= 500), 'house_area_band'] = 2\n",
    "df.loc[(df.house_area > 500) & (df.house_area <= 750), 'house_area_band'] = 3\n",
    "df.loc[(df.house_area > 750) & (df.house_area <= 1000), 'house_area_band'] = 4\n",
    "df.loc[(df.house_area > 1000) & (df.house_area <= 2000), 'house_area_band'] = 5\n",
    "df.loc[df.house_area > 2000, 'house_area_band'] = 6"
   ]
  },
  {
   "cell_type": "code",
   "execution_count": 58,
   "metadata": {},
   "outputs": [],
   "source": [
    "# Data imputation for house_owership for null values \n",
    "# if house area is grater than 2000 applicant own thier house\n",
    "# If the house area is 0 then home_ownership can be considered as 0\n",
    "\n",
    "df.loc[(df['home_ownership'].isnull()) & (df['house_area'] > 2000), 'home_ownership'] = 1\n",
    "df.loc[(df['home_ownership'].isnull()) & (df['house_area'] == 0), 'home_ownership'] = 0"
   ]
  },
  {
   "cell_type": "code",
   "execution_count": 59,
   "metadata": {},
   "outputs": [],
   "source": [
    "# If the occupant count is 0 then there is sanitary_availability is 0\n",
    "# Data imputation for sanitary availability \n",
    "\n",
    "df.loc[(df['sanitary_availability'].isnull()) & (df['occupants_count'] == 0), 'sanitary_availability'] = 0"
   ]
  },
  {
   "cell_type": "code",
   "execution_count": 60,
   "metadata": {},
   "outputs": [],
   "source": [
    "# most of the owned houses are T1 ans T2 \n",
    "# Means of type is almost same irrespective of the occupant count \n",
    "# types_of_house which are missing for which there is no sanitary availability\n",
    "# water availability is unknow\n",
    "df.groupby('type_of_house').agg({'occupants_count': ['mean', 'min', 'max']})\n",
    "\n",
    "\n",
    "df[(df['type_of_house'].isnull()) & (df['sanitary_availability'] == 0) & (df['home_ownership']==0)].shape[0] \n",
    "# Changes of having only room is high fill the data by mode\n",
    "df[(df['type_of_house'].isnull()) & (df['sanitary_availability'] == 0) & (df['home_ownership']==1)].shape[0]\n",
    "# changes of having T1 and T2 is high compair to R\n",
    "\n",
    "pd.crosstab([df.sanitary_availability,\n",
    "            df.type_of_house],\n",
    "            df.home_ownership,\n",
    "            margins=True)\\\n",
    ".style.background_gradient(cmap='summer_r')\n",
    "\n",
    "df.loc[(df['type_of_house'].isnull()) & (df['sanitary_availability'] == 0) & (df['home_ownership']==0) ,\n",
    "       'type_of_house'] =df[(df['sanitary_availability'] == 0) & (df['home_ownership']==0)].type_of_house.mode()[0]\n",
    "df.loc[(df['type_of_house'].isnull()) & (df['sanitary_availability'] == 0) & (df['home_ownership']==1) ,\n",
    "       'type_of_house'] =df[(df['sanitary_availability'] == 0) & (df['home_ownership']==1)].type_of_house.mode()[0]"
   ]
  },
  {
   "cell_type": "code",
   "execution_count": 61,
   "metadata": {},
   "outputs": [],
   "source": [
    "# imputation for water availability \n",
    "# if they applicant owns house then most likely to have water availability wither full or half taking the mode of the water avaibility\n",
    "\n",
    "df.loc[(df['water_availabity'].isnull()) & (df['sanitary_availability'] == 0) & (df['home_ownership']==0), \n",
    "       'water_availabity'] = df[(df['sanitary_availability'] == 0) & (df['home_ownership']==0)].water_availabity.mode()[0]\n",
    "\n",
    "df.loc[(df['water_availabity'].isnull()) & (df['sanitary_availability'] == 0) & (df['home_ownership']==1), \n",
    "       'water_availabity'] = df[(df['sanitary_availability'] == 0) & (df['home_ownership']==1)].water_availabity.mode()[0]\n"
   ]
  },
  {
   "cell_type": "code",
   "execution_count": 62,
   "metadata": {},
   "outputs": [],
   "source": [
    "# Analysis for city\n",
    "# Most likly to drop this column\n",
    "df.groupby('city').size().reset_index(name='counts')\n",
    "df['city'] = df['city'].fillna('Unknow')"
   ]
  },
  {
   "cell_type": "code",
   "execution_count": 63,
   "metadata": {},
   "outputs": [],
   "source": [
    "# Total occupant and Monthly expenses \n",
    "df['total_dependents'] = df['old_dependents'] + df['young_dependents']\n",
    "\n",
    "# Conclusion - \n",
    "# As number of dependent increases monthly expenses increases\n",
    "# Monthly expenses are higher for applicant who don't own house\n",
    "# Monthly expenses are less for T2 types of house as most of the T2 houses are owned \n",
    "# filling the missing values with mean of the monthly expenses \n",
    "\n",
    "df['monthly_expenses'] = df['monthly_expenses'].fillna(df['monthly_expenses'].mean())"
   ]
  },
  {
   "cell_type": "code",
   "execution_count": 64,
   "metadata": {},
   "outputs": [],
   "source": [
    "df = df.drop(df[df['age'] >= 70].index)\n",
    "df = df.drop(df[df['age'] < 18].index)"
   ]
  },
  {
   "cell_type": "code",
   "execution_count": 65,
   "metadata": {},
   "outputs": [],
   "source": [
    "# Changeing the string values to numeric\n",
    "df['sex'].replace(['F', 'M', 'TG'], [0,1,2], inplace=True)\n",
    "df['type_of_house'].replace(['R', 'T1', 'T2'], [0,1,2], inplace=True)\n",
    "df.loc[~df['primary_business'].isin(['none']), 'primary_business'] = 1\n",
    "df.loc[df['primary_business'].isin(['none']), 'primary_business'] = 0\n",
    "df.loc[~df['secondary_business'].isin(['none']), 'secondary_business'] = 1\n",
    "df.loc[df['secondary_business'].isin(['none']), 'secondary_business'] = 0\n",
    "df.loc[~df['loan_purpose'].isin(['none']), 'loan_purpose'] = 1\n",
    "df.loc[df['loan_purpose'].isin(['none']), 'loan_purpose'] = 0"
   ]
  },
  {
   "cell_type": "code",
   "execution_count": 66,
   "metadata": {},
   "outputs": [],
   "source": [
    "# Feature Engineering\n",
    "# Determine the skewness in numerical parameters\n",
    "numeric_features=df.dtypes[df.dtypes !=\"object\"].index\n",
    "\n",
    "#calculate skewness using lambda functions\n",
    "skewed_features = df[numeric_features].apply(lambda x: skew(x.dropna()))\n",
    "skewed_features = skewed_features[skewed_features > 0.80]\n",
    "skewed_features = skewed_features.index\n",
    "\n",
    "df[skewed_features] = np.log1p(df[skewed_features])"
   ]
  },
  {
   "cell_type": "code",
   "execution_count": 69,
   "metadata": {},
   "outputs": [],
   "source": [
    "# Preparing data set for training\n",
    "X= df.drop(['Id', 'city', 'loan_amount', 'social_class', 'house_area'], axis=1).values\n",
    "y= df['loan_amount'].values\n",
    "\n",
    "# Split the data into train and val sets\n",
    "\n",
    "X_train, X_val, y_train, y_val = train_test_split(X,y, test_size=0.20,random_state=42)"
   ]
  },
  {
   "cell_type": "code",
   "execution_count": 70,
   "metadata": {},
   "outputs": [],
   "source": [
    "# KFold cross validation \n",
    "\n",
    "n_folds = 5\n",
    "def rmse_cv(model):\n",
    "    kf = KFold(n_folds, shuffle = True, random_state=42)\n",
    "    rmse = np.sqrt(-cross_val_score(model, X_train, y_train, \n",
    "                                    scoring=\"neg_mean_squared_error\", \n",
    "                                    cv=kf))\n",
    "    return rmse\n",
    "\n",
    "n_folds = 5\n",
    "custom_cv = KFold(n_folds, shuffle=True, random_state=42)\n",
    "\n",
    "def print_model_stats(model):\n",
    "    print(\"Training RMSE : %.4f\" % rmse_cv(model).mean())\n",
    "    print(\"Validation R^2 : %.4f\" % r2_score(y_val, model.predict(X_val)))\n",
    "    print(\"Validation RMSE : %.4f\" % mean_squared_error(y_val, model.predict(X_val)))\n",
    "    print(\"Validation Mean Absolute Error: %.4f\" % mean_absolute_error(y_val,model.predict(X_val)))"
   ]
  },
  {
   "cell_type": "code",
   "execution_count": 78,
   "metadata": {},
   "outputs": [
    {
     "name": "stdout",
     "output_type": "stream",
     "text": [
      "Training time : 44.9048  seconds\n",
      "Training RMSE : 0.0240\n",
      "Validation R^2 : 0.6026\n",
      "Validation RMSE : 0.0006\n",
      "Validation Mean Absolute Error: 0.0173\n"
     ]
    },
    {
     "ename": "AttributeError",
     "evalue": "'GradientBoostingRegressor' object has no attribute 'history'",
     "output_type": "error",
     "traceback": [
      "\u001b[0;31m---------------------------------------------------------------------------\u001b[0m",
      "\u001b[0;31mAttributeError\u001b[0m                            Traceback (most recent call last)",
      "\u001b[0;32m<ipython-input-78-7d73c5d77edf>\u001b[0m in \u001b[0;36m<module>\u001b[0;34m()\u001b[0m\n\u001b[1;32m     16\u001b[0m \u001b[0mprint_model_stats\u001b[0m\u001b[0;34m(\u001b[0m\u001b[0mGBR_model\u001b[0m\u001b[0;34m)\u001b[0m\u001b[0;34m\u001b[0m\u001b[0m\n\u001b[1;32m     17\u001b[0m \u001b[0;34m\u001b[0m\u001b[0m\n\u001b[0;32m---> 18\u001b[0;31m \u001b[0mplt\u001b[0m\u001b[0;34m.\u001b[0m\u001b[0mplot\u001b[0m\u001b[0;34m(\u001b[0m\u001b[0mhistory\u001b[0m\u001b[0;34m.\u001b[0m\u001b[0mhistory\u001b[0m\u001b[0;34m[\u001b[0m\u001b[0;34m'mean_squared_error'\u001b[0m\u001b[0;34m]\u001b[0m\u001b[0;34m)\u001b[0m\u001b[0;34m\u001b[0m\u001b[0m\n\u001b[0m\u001b[1;32m     19\u001b[0m \u001b[0mplt\u001b[0m\u001b[0;34m.\u001b[0m\u001b[0mplot\u001b[0m\u001b[0;34m(\u001b[0m\u001b[0mhistory\u001b[0m\u001b[0;34m.\u001b[0m\u001b[0mhistory\u001b[0m\u001b[0;34m[\u001b[0m\u001b[0;34m'mean_absolute_error'\u001b[0m\u001b[0;34m]\u001b[0m\u001b[0;34m)\u001b[0m\u001b[0;34m\u001b[0m\u001b[0m\n\u001b[1;32m     20\u001b[0m \u001b[0mplt\u001b[0m\u001b[0;34m.\u001b[0m\u001b[0mplot\u001b[0m\u001b[0;34m(\u001b[0m\u001b[0mhistory\u001b[0m\u001b[0;34m.\u001b[0m\u001b[0mhistory\u001b[0m\u001b[0;34m[\u001b[0m\u001b[0;34m'mean_absolute_percentage_error'\u001b[0m\u001b[0;34m]\u001b[0m\u001b[0;34m)\u001b[0m\u001b[0;34m\u001b[0m\u001b[0m\n",
      "\u001b[0;31mAttributeError\u001b[0m: 'GradientBoostingRegressor' object has no attribute 'history'"
     ]
    }
   ],
   "source": [
    "# Predictive Models\n",
    "# GradientBoostingRegressor\n",
    "start_time = time.time()\n",
    "\n",
    "GBR_model = GradientBoostingRegressor(n_estimators=3000,\n",
    "                               learning_rate = 0.05,\n",
    "                               max_depth = 4,\n",
    "                               max_features = 'sqrt',\n",
    "                               min_samples_leaf = 15,\n",
    "                               min_samples_split=10,\n",
    "                               loss='huber', \n",
    "                               random_state=5)\n",
    "\n",
    "history = GBR_model.fit(X_train, y_train)\n",
    "print(\"Training time : %.4f\" % (time.time() - start_time), \" seconds\")\n",
    "print_model_stats(GBR_model)\n",
    "\n",
    "plt.plot(history.history['mean_squared_error'])\n",
    "plt.plot(history.history['mean_absolute_error'])\n",
    "plt.plot(history.history['mean_absolute_percentage_error'])\n",
    "plt.plot(history.history['cosine_proximity'])\n",
    "plt.show()"
   ]
  },
  {
   "cell_type": "code",
   "execution_count": 76,
   "metadata": {},
   "outputs": [
    {
     "name": "stdout",
     "output_type": "stream",
     "text": [
      "Training time : 21.5156  seconds\n",
      "Training RMSE : 0.0235\n",
      "Validation R^2 : 0.6234\n",
      "Validation RMSE : 0.0006\n",
      "Validation Mean Absolute Error: 0.0164\n"
     ]
    }
   ],
   "source": [
    "#random forest regressor\n",
    "\n",
    "start_time = time.time()\n",
    "RFR_model = RandomForestRegressor(min_samples_leaf=2,\n",
    "                                 min_samples_split=2,\n",
    "                                 max_features='sqrt',\n",
    "                                 max_depth=50,\n",
    "                                 bootstrap=False,\n",
    "                                 n_estimators=800)\n",
    "RFR_model.fit(X_train,y_train)\n",
    "print(\"Training time : %.4f\" % (time.time() - start_time), \" seconds\")\n",
    "print_model_stats(RFR_model)\n",
    "\n",
    "tree_small = RFR_model.estimators_[5]\n",
    "export_graphviz(tree_small, out_file = 'small_tree.dot', feature_names = feature_list, rounded = True, precision = 1)"
   ]
  }
 ],
 "metadata": {
  "kernelspec": {
   "display_name": "Python 3",
   "language": "python",
   "name": "python3"
  },
  "language_info": {
   "codemirror_mode": {
    "name": "ipython",
    "version": 3
   },
   "file_extension": ".py",
   "mimetype": "text/x-python",
   "name": "python",
   "nbconvert_exporter": "python",
   "pygments_lexer": "ipython3",
   "version": "3.7.0"
  }
 },
 "nbformat": 4,
 "nbformat_minor": 2
}
